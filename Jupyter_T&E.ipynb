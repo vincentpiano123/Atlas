{
 "cells": [
  {
   "cell_type": "markdown",
   "metadata": {},
   "source": [
    "# Allen atlas image regression"
   ]
  },
  {
   "cell_type": "code",
   "execution_count": 3,
   "metadata": {},
   "outputs": [],
   "source": [
    "import numpy as np\n",
    "import os\n",
    "import functools\n",
    "import time\n",
    "from tqdm import tqdm\n",
    "from allensdk.core.reference_space import ReferenceSpace\n",
    "from allensdk.core.reference_space_cache import ReferenceSpaceCache\n",
    "from atlas_functions import *"
   ]
  },
  {
   "cell_type": "markdown",
   "metadata": {},
   "source": [
    "## Opening of structure graph"
   ]
  },
  {
   "cell_type": "code",
   "execution_count": 4,
   "metadata": {},
   "outputs": [],
   "source": [
    "reference_space_key = 'annotation/ccf_2017'\n",
    "resolution = 25\n",
    "rspc = ReferenceSpaceCache(resolution, reference_space_key, manifest='manifest.json')\n",
    "# ID 1 is the adult mouse structure graph\n",
    "tree = rspc.get_structure_tree(structure_graph_id=1) "
   ]
  },
  {
   "cell_type": "markdown",
   "metadata": {},
   "source": [
    "## Let's take a look at a specific structure (Dorsal auditory area)"
   ]
  },
  {
   "cell_type": "code",
   "execution_count": 7,
   "metadata": {},
   "outputs": [
    {
     "name": "stdout",
     "output_type": "stream",
     "text": [
      "315\n"
     ]
    }
   ],
   "source": [
    "structure = tree.get_structures_by_name(['Isocortex'])[0].get('id')\n",
    "print(structure)"
   ]
  },
  {
   "cell_type": "code",
   "execution_count": 8,
   "metadata": {},
   "outputs": [
    {
     "data": {
      "text/plain": [
       "[{'acronym': 'root',\n",
       "  'graph_id': 1,\n",
       "  'graph_order': 0,\n",
       "  'id': 997,\n",
       "  'name': 'root',\n",
       "  'structure_id_path': [997],\n",
       "  'structure_set_ids': [691663206],\n",
       "  'rgb_triplet': [255, 255, 255]}]"
      ]
     },
     "execution_count": 8,
     "metadata": {},
     "output_type": "execute_result"
    }
   ],
   "source": [
    "# get a structure's parent\n",
    "tree.parents([8])"
   ]
  },
  {
   "cell_type": "code",
   "execution_count": 9,
   "metadata": {},
   "outputs": [
    {
     "data": {
      "text/plain": [
       "'Auditory areas'"
      ]
     },
     "execution_count": 9,
     "metadata": {},
     "output_type": "execute_result"
    }
   ],
   "source": [
    "# get a dictionary mapping structure ids to names\n",
    "\n",
    "name_map = tree.get_name_map()\n",
    "name_map[247]"
   ]
  },
  {
   "cell_type": "code",
   "execution_count": 35,
   "metadata": {},
   "outputs": [
    {
     "name": "stdout",
     "output_type": "stream",
     "text": [
      "posteromedial visual area is in Isocortex\n"
     ]
    }
   ],
   "source": [
    "# ask whether one structure is contained within another\n",
    "\n",
    "structure_id_a = 533\n",
    "structure_id_b = 315\n",
    "\n",
    "is_desc = '' if tree.structure_descends_from(structure_id_a, structure_id_b) else ' not'\n",
    "print( '{0} is{1} in {2}'.format(name_map[structure_id_a], is_desc, name_map[structure_id_b]) )"
   ]
  },
  {
   "cell_type": "code",
   "execution_count": 11,
   "metadata": {},
   "outputs": [
    {
     "name": "stdout",
     "output_type": "stream",
     "text": [
      "Isocortex\n"
     ]
    }
   ],
   "source": [
    "# build a custom map that looks up acronyms by ids\n",
    "# the syntax here is just a pair of node-wise functions. \n",
    "# The first one returns keys while the second one returns values\n",
    "\n",
    "acronym_map = tree.value_map(lambda x: x['id'], lambda y: y['acronym'])\n",
    "print( acronym_map[structure_id_a] )"
   ]
  },
  {
   "cell_type": "code",
   "execution_count": 12,
   "metadata": {},
   "outputs": [
    {
     "data": {
      "text/plain": [
       "['annotation_25.nrrd']"
      ]
     },
     "execution_count": 12,
     "metadata": {},
     "output_type": "execute_result"
    }
   ],
   "source": [
    "annotation, meta = rspc.get_annotation_volume()\n",
    "# The file should appear in the reference space key directory\n",
    "os.listdir(reference_space_key)"
   ]
  },
  {
   "cell_type": "code",
   "execution_count": 15,
   "metadata": {},
   "outputs": [],
   "source": [
    "rsp = rspc.get_reference_space()"
   ]
  },
  {
   "cell_type": "code",
   "execution_count": 16,
   "metadata": {},
   "outputs": [
    {
     "data": {
      "text/plain": [
       "<matplotlib.image.AxesImage at 0x7ffa6c683950>"
      ]
     },
     "execution_count": 16,
     "metadata": {},
     "output_type": "execute_result"
    },
    {
     "data": {
      "image/png": "[encoded data removed]",
      "text/plain": [
       "<Figure size 720x720 with 1 Axes>"
      ]
     },
     "metadata": {
      "needs_background": "light"
     },
     "output_type": "display_data"
    }
   ],
   "source": [
    "import matplotlib.pyplot as plt\n",
    "%matplotlib inline\n",
    "\n",
    "# A complete mask for one structure\n",
    "whole_cortex_mask = rsp.make_structure_mask([315])\n",
    "\n",
    "# view in coronal section\n",
    "fig, ax = plt.subplots(figsize=(10, 10))\n",
    "plt.imshow(whole_cortex_mask[150, :], interpolation='none', cmap=plt.cm.afmhot)"
   ]
  },
  {
   "cell_type": "code",
   "execution_count": 23,
   "metadata": {
    "scrolled": true
   },
   "outputs": [
    {
     "name": "stdout",
     "output_type": "stream",
     "text": [
      "[{'acronym': 'VISal', 'graph_id': 1, 'graph_order': 164, 'id': 402, 'name': 'Anterolateral visual area', 'structure_id_path': [997, 8, 567, 688, 695, 315, 669, 402], 'structure_set_ids': [396673091, 112905828, 688152357, 691663206, 687527945, 12, 184527634, 514166994, 167587189, 114512891], 'rgb_triplet': [8, 133, 140]}, {'acronym': 'VISam', 'graph_id': 1, 'graph_order': 171, 'id': 394, 'name': 'Anteromedial visual area', 'structure_id_path': [997, 8, 567, 688, 695, 315, 669, 394], 'structure_set_ids': [396673091, 112905828, 688152357, 691663206, 687527945, 12, 184527634, 514166994, 167587189, 114512891], 'rgb_triplet': [8, 133, 140]}, {'acronym': 'VISl', 'graph_id': 1, 'graph_order': 178, 'id': 409, 'name': 'Lateral visual area', 'structure_id_path': [997, 8, 567, 688, 695, 315, 669, 409], 'structure_set_ids': [396673091, 112905828, 688152357, 691663206, 687527945, 12, 184527634, 514166994, 167587189, 114512891], 'rgb_triplet': [8, 133, 140]}, {'acronym': 'VISp', 'graph_id': 1, 'graph_order': 185, 'id': 385, 'name': 'Primary visual area', 'structure_id_path': [997, 8, 567, 688, 695, 315, 669, 385], 'structure_set_ids': [396673091, 112905828, 688152357, 691663206, 687527945, 12, 184527634, 514166994, 112905813, 167587189, 114512891, 114512892], 'rgb_triplet': [8, 133, 140]}, {'acronym': 'VISpm', 'graph_id': 1, 'graph_order': 199, 'id': 533, 'name': 'posteromedial visual area', 'structure_id_path': [997, 8, 567, 688, 695, 315, 669, 533], 'structure_set_ids': [396673091, 112905828, 688152357, 691663206, 687527945, 12, 184527634, 514166994, 112905813, 167587189, 114512891], 'rgb_triplet': [8, 133, 140]}, {'acronym': 'VISli', 'graph_id': 1, 'graph_order': 206, 'id': 312782574, 'name': 'Laterointermediate area', 'structure_id_path': [997, 8, 567, 688, 695, 315, 669, 312782574], 'structure_set_ids': [396673091, 112905828, 688152357, 691663206, 687527945, 184527634, 514166994, 167587189, 114512891], 'rgb_triplet': [8, 133, 140]}, {'acronym': 'VISrl', 'graph_id': 1, 'graph_order': 353, 'id': 417, 'name': 'Rostrolateral visual area', 'structure_id_path': [997, 8, 567, 688, 695, 315, 22, 417], 'structure_set_ids': [396673091, 112905828, 688152357, 691663206, 687527945, 184527634, 514166994, 167587189, 114512891], 'rgb_triplet': [0, 159, 172]}]\n",
      "[402, 394, 409, 385, 533, 312782574, 417]\n",
      "[[[0 0 0 ... 0 0 0]\n",
      "  [0 0 0 ... 0 0 0]\n",
      "  [0 0 0 ... 0 0 0]\n",
      "  ...\n",
      "  [0 0 0 ... 0 0 0]\n",
      "  [0 0 0 ... 0 0 0]\n",
      "  [0 0 0 ... 0 0 0]]\n",
      "\n",
      " [[0 0 0 ... 0 0 0]\n",
      "  [0 0 0 ... 0 0 0]\n",
      "  [0 0 0 ... 0 0 0]\n",
      "  ...\n",
      "  [0 0 0 ... 0 0 0]\n",
      "  [0 0 0 ... 0 0 0]\n",
      "  [0 0 0 ... 0 0 0]]\n",
      "\n",
      " [[0 0 0 ... 0 0 0]\n",
      "  [0 0 0 ... 0 0 0]\n",
      "  [0 0 0 ... 0 0 0]\n",
      "  ...\n",
      "  [0 0 0 ... 0 0 0]\n",
      "  [0 0 0 ... 0 0 0]\n",
      "  [0 0 0 ... 0 0 0]]\n",
      "\n",
      " ...\n",
      "\n",
      " [[0 0 0 ... 0 0 0]\n",
      "  [0 0 0 ... 0 0 0]\n",
      "  [0 0 0 ... 0 0 0]\n",
      "  ...\n",
      "  [0 0 0 ... 0 0 0]\n",
      "  [0 0 0 ... 0 0 0]\n",
      "  [0 0 0 ... 0 0 0]]\n",
      "\n",
      " [[0 0 0 ... 0 0 0]\n",
      "  [0 0 0 ... 0 0 0]\n",
      "  [0 0 0 ... 0 0 0]\n",
      "  ...\n",
      "  [0 0 0 ... 0 0 0]\n",
      "  [0 0 0 ... 0 0 0]\n",
      "  [0 0 0 ... 0 0 0]]\n",
      "\n",
      " [[0 0 0 ... 0 0 0]\n",
      "  [0 0 0 ... 0 0 0]\n",
      "  [0 0 0 ... 0 0 0]\n",
      "  ...\n",
      "  [0 0 0 ... 0 0 0]\n",
      "  [0 0 0 ... 0 0 0]\n",
      "  [0 0 0 ... 0 0 0]]]\n"
     ]
    }
   ],
   "source": [
    "# This gets all of the structures targeted by the Allen Brain Observatory project\n",
    "brain_observatory_structures = rsp.structure_tree.get_structures_by_set_id([514166994])\n",
    "print(brain_observatory_structures)\n",
    "brain_observatory_ids = [st['id'] for st in brain_observatory_structures]\n",
    "print(brain_observatory_ids)\n",
    "\n",
    "brain_observatory_mask = rsp.make_structure_mask(brain_observatory_ids)\n",
    "print(brain_observatory_mask)\n",
    "\n",
    "# view in horizontal section\n",
    "#fig, ax = plt.subplots(figsize=(10, 10))\n",
    "#plt.imshow(brain_observatory_mask[:, 40, :], interpolation='none', cmap=plt.cm.afmhot)"
   ]
  },
  {
   "cell_type": "code",
   "execution_count": 14,
   "metadata": {},
   "outputs": [
    {
     "name": "stdout",
     "output_type": "stream",
     "text": [
      "made mask for structure 385.\n",
      "made mask for structure 1097.\n"
     ]
    },
    {
     "data": {
      "text/plain": [
       "['ccf_2017', 'structure_385.nrrd', 'structure_1097.nrrd']"
      ]
     },
     "execution_count": 14,
     "metadata": {},
     "output_type": "execute_result"
    }
   ],
   "source": [
    "# Define a wrapper function that will control the mask generation. \n",
    "# This one checks for a nrrd file in the specified base directory \n",
    "# and builds/writes the mask only if one does not exist\n",
    "annotation_dir = 'annotation'\n",
    "mask_writer = functools.partial(ReferenceSpace.check_and_write, annotation_dir)\n",
    "    \n",
    "# many_structure_masks is a generator - nothing has actrually been run yet\n",
    "mask_generator = rsp.many_structure_masks([385, 1097], mask_writer)\n",
    "\n",
    "# consume the resulting iterator to make and write the masks\n",
    "for structure_id in mask_generator:\n",
    "    print( 'made mask for structure {0}.'.format(structure_id) ) \n",
    "\n",
    "os.listdir(annotation_dir)"
   ]
  },
  {
   "cell_type": "code",
   "execution_count": 15,
   "metadata": {},
   "outputs": [
    {
     "name": "stdout",
     "output_type": "stream",
     "text": [
      "voxel count for structure 12997: 0\n"
     ]
    },
    {
     "data": {
      "text/plain": [
       "False"
      ]
     },
     "execution_count": 15,
     "metadata": {},
     "output_type": "execute_result"
    }
   ],
   "source": [
    "# Double-check the voxel counts\n",
    "no_voxel_id = rsp.structure_tree.get_structures_by_name(['Somatosensory areas, layer 6a'])[0]['id']\n",
    "print( 'voxel count for structure {0}: {1}'.format(no_voxel_id, rsp.total_voxel_map[no_voxel_id]) )\n",
    "\n",
    "# remove unassigned structures from the ReferenceSpace's StructureTree\n",
    "rsp.remove_unassigned()\n",
    "\n",
    "# check the structure tree\n",
    "no_voxel_id in rsp.structure_tree.node_ids()"
   ]
  },
  {
   "cell_type": "code",
   "execution_count": 33,
   "metadata": {},
   "outputs": [
    {
     "data": {
      "text/plain": [
       "<matplotlib.image.AxesImage at 0x7ffa6e4bad90>"
      ]
     },
     "execution_count": 33,
     "metadata": {},
     "output_type": "execute_result"
    },
    {
     "data": {
      "image/png": "[encoded data removed]",
      "text/plain": [
       "<Figure size 720x720 with 1 Axes>"
      ]
     },
     "metadata": {
      "needs_background": "light"
     },
     "output_type": "display_data"
    }
   ],
   "source": [
    "fig, ax = plt.subplots(figsize=(10, 10))\n",
    "plt.imshow(rsp.get_slice_image(1, 7000), interpolation = 'none')"
   ]
  },
  {
   "cell_type": "code",
   "execution_count": 219,
   "metadata": {},
   "outputs": [],
   "source": [
    "dim2_min = 0\n",
    "dim2_max = 7987"
   ]
  },
  {
   "cell_type": "code",
   "execution_count": 244,
   "metadata": {
    "scrolled": true
   },
   "outputs": [
    {
     "name": "stdout",
     "output_type": "stream",
     "text": [
      "(528, 456, 3)\n"
     ]
    },
    {
     "data": {
      "text/plain": [
       "456"
      ]
     },
     "execution_count": 244,
     "metadata": {},
     "output_type": "execute_result"
    }
   ],
   "source": [
    "empty_matrix = np.zeros((528,456,3), dtype=np.int8)\n",
    "print(empty_matrix.shape)\n",
    "rsp.get_slice_image(1,0).shape[1]\n",
    "#slice_matrix.shape\n",
    "#plt.imshow(slice_matrix(1,2500))\n",
    "#print(empty_matrix=[0,0,0])\n",
    "#np.copyto(empty_matrix, slice_matrix(1, 2500))\n",
    "#plt.imshow(empty_matrix)\n",
    "#print(empty_matrix)"
   ]
  },
  {
   "cell_type": "code",
   "execution_count": 254,
   "metadata": {
    "scrolled": false
   },
   "outputs": [
    {
     "name": "stderr",
     "output_type": "stream",
     "text": [
      "100%|█████████████████████████████████████| 7987/7987 [2:12:55<00:00,  1.00it/s]\n"
     ]
    },
    {
     "data": {
      "text/plain": [
       "<matplotlib.image.AxesImage at 0x7fa804525250>"
      ]
     },
     "execution_count": 254,
     "metadata": {},
     "output_type": "execute_result"
    },
    {
     "data": {
      "image/png": "[encoded data removed]",
      "text/plain": [
       "<Figure size 432x288 with 1 Axes>"
      ]
     },
     "metadata": {
      "needs_background": "light"
     },
     "output_type": "display_data"
    }
   ],
   "source": [
    "# same dimensions, [0,0,0] in each case\n",
    "\n",
    "for slice in tqdm(range(dim2_min, dim2_max)):\n",
    "    np.copyto(empty_matrix, rsp.get_slice_image(1, slice),where=empty_matrix==[0,0,0])\n",
    "plt.imshow(empty_matrix.astype('uint8'), interpolation = 'none')"
   ]
  },
  {
   "cell_type": "code",
   "execution_count": 272,
   "metadata": {},
   "outputs": [],
   "source": [
    "np.save('axial_projection_backup', empty_matrix)"
   ]
  },
  {
   "cell_type": "code",
   "execution_count": 273,
   "metadata": {},
   "outputs": [],
   "source": [
    "newvariable = np.load('axial_projection_backup.npy')"
   ]
  },
  {
   "cell_type": "code",
   "execution_count": 275,
   "metadata": {},
   "outputs": [
    {
     "data": {
      "text/plain": [
       "<matplotlib.image.AxesImage at 0x7fa804541550>"
      ]
     },
     "execution_count": 275,
     "metadata": {},
     "output_type": "execute_result"
    },
    {
     "data": {
      "image/png": "[encoded data removed]",
      "text/plain": [
       "<Figure size 432x288 with 1 Axes>"
      ]
     },
     "metadata": {
      "needs_background": "light"
     },
     "output_type": "display_data"
    }
   ],
   "source": [
    "plt.imshow(newvariable.astype('uint8'))"
   ]
  },
  {
   "cell_type": "markdown",
   "metadata": {},
   "source": [
    "#### Making a list of isocortex areas"
   ]
  },
  {
   "cell_type": "code",
   "execution_count": 25,
   "metadata": {},
   "outputs": [
    {
     "name": "stdout",
     "output_type": "stream",
     "text": [
      "['Frontal pole, cerebral cortex', 'Somatomotor areas', 'Somatosensory areas', 'Gustatory areas', 'Visceral area', 'Auditory areas', 'Visual areas', 'Anterior cingulate area', 'Prelimbic area', 'Infralimbic area', 'Orbital area', 'Agranular insular area', 'Retrosplenial area', 'Posterior parietal association areas', 'Perirhinal area', 'Ectorhinal area']\n",
      "[184, 500, 453, 1057, 677, 247, 669, 31, 972, 44, 714, 95, 254, 22, 922, 895]\n"
     ]
    }
   ],
   "source": [
    "isocortex_areas_names = [\"Frontal pole, cerebral cortex\", \"Somatomotor areas\", \"Somatosensory areas\", \"Gustatory areas\", \\\n",
    "                        \"Visceral area\", \"Auditory areas\", \"Visual areas\", \"Anterior cingulate area\", \"Prelimbic area\", \"Infralimbic area\", \\\n",
    "                        \"Orbital area\", \"Agranular insular area\", \"Retrosplenial area\",\"Posterior parietal association areas\",\"Perirhinal area\",\"Ectorhinal area\"]\n",
    "print(isocortex_areas_names)\n",
    "isocortex_areas_IDs = []\n",
    "for i in range(len(isocortex_areas_names)):\n",
    "    isocortex_areas_IDs.append(tree.get_structures_by_name([isocortex_areas_names[i]])[0].get('id'))\n",
    "print(isocortex_areas_IDs)"
   ]
  },
  {
   "cell_type": "markdown",
   "metadata": {},
   "source": [
    "#### Obtaining masks for every substructure in Isocortex"
   ]
  },
  {
   "cell_type": "code",
   "execution_count": 32,
   "metadata": {},
   "outputs": [
    {
     "data": {
      "text/plain": [
       "<matplotlib.image.AxesImage at 0x7ffa6cb8d090>"
      ]
     },
     "execution_count": 32,
     "metadata": {},
     "output_type": "execute_result"
    },
    {
     "data": {
      "image/png": "[encoded data removed]",
      "text/plain": [
       "<Figure size 720x720 with 1 Axes>"
      ]
     },
     "metadata": {
      "needs_background": "light"
     },
     "output_type": "display_data"
    }
   ],
   "source": [
    "# This gets all of the structures targeted by the Allen Brain Observatory project\n",
    "brain_observatory_structures = rsp.structure_tree.get_structures_by_set_id([514166994])\n",
    "brain_observatory_ids = isocortex_areas_IDs\n",
    "\n",
    "brain_observatory_mask = rsp.make_structure_mask(brain_observatory_ids)\n",
    "\n",
    "# view in horizontal section\n",
    "#fig, ax = plt.subplots(figsize=(10, 10))\n",
    "#plt.imshow(brain_observatory_mask[:, 200, :], interpolation='none', cmap=plt.cm.afmhot)"
   ]
  },
  {
   "cell_type": "code",
   "execution_count": 4,
   "metadata": {},
   "outputs": [
    {
     "name": "stdout",
     "output_type": "stream",
     "text": [
      "['annotation_25.nrrd']\n"
     ]
    },
    {
     "name": "stderr",
     "output_type": "stream",
     "text": [
      "100%|███████████████████████████████████████| 320/320 [00:00<00:00, 1936.98it/s]\n"
     ]
    },
    {
     "data": {
      "image/png": "[encoded data removed]",
      "text/plain": [
       "<Figure size 720x720 with 1 Axes>"
      ]
     },
     "metadata": {
      "needs_background": "light"
     },
     "output_type": "display_data"
    },
    {
     "name": "stdout",
     "output_type": "stream",
     "text": [
      "(528, 456)\n"
     ]
    },
    {
     "data": {
      "text/plain": [
       "array([[0, 0, 0, ..., 0, 0, 0],\n",
       "       [0, 0, 0, ..., 0, 0, 0],\n",
       "       [0, 0, 0, ..., 0, 0, 0],\n",
       "       ...,\n",
       "       [0, 0, 0, ..., 0, 0, 0],\n",
       "       [0, 0, 0, ..., 0, 0, 0],\n",
       "       [0, 0, 0, ..., 0, 0, 0]])"
      ]
     },
     "execution_count": 4,
     "metadata": {},
     "output_type": "execute_result"
    }
   ],
   "source": [
    "rsp, tree = open_AllenSDK()\n",
    "isocortex_map, id_name_dict, bregma = map_generator(rsp, tree, structure='Isocortex')\n",
    "fig, ax = plt.subplots(figsize=(10, 10))\n",
    "plt.imshow(isocortex_map,vmax=1300)\n",
    "plt.show()\n",
    "sma_mask = create_mask(isocortex_map, 656)\n",
    "create_contour(sma_mask)"
   ]
  },
  {
   "cell_type": "code",
   "execution_count": null,
   "metadata": {},
   "outputs": [],
   "source": []
  }
 ],
 "metadata": {
  "kernelspec": {
   "display_name": "Python 3 (ipykernel)",
   "language": "python",
   "name": "python3"
  },
  "language_info": {
   "codemirror_mode": {
    "name": "ipython",
    "version": 3
   },
   "file_extension": ".py",
   "mimetype": "text/x-python",
   "name": "python",
   "nbconvert_exporter": "python",
   "pygments_lexer": "ipython3",
   "version": "3.7.13"
  }
 },
 "nbformat": 4,
 "nbformat_minor": 4
}
