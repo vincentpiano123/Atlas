{
 "cells": [
  {
   "cell_type": "markdown",
   "metadata": {},
   "source": [
    "# Allen atlas image regression"
   ]
  },
  {
   "cell_type": "code",
   "execution_count": 3,
   "metadata": {},
   "outputs": [
    {
     "name": "stdout",
     "output_type": "stream",
     "text": [
      "<class 'NoneType'>\n",
      "[DEBUG] Welcome to easyROI\n",
      "[DEBUG] Entered draw_polygon\n",
      "[DEBUG] Draw 1 polygon(s)\n",
      "[DEBUG] Draw multiple lines by dragging the cursor\n",
      "[DEBUG] Double Click to complete the polygon\n",
      "[DEBUG] Press Esc to leave the process\n"
     ]
    },
    {
     "ename": "AttributeError",
     "evalue": "'NoneType' object has no attribute 'copy'",
     "output_type": "error",
     "traceback": [
      "\u001b[0;31m---------------------------------------------------------------------------\u001b[0m",
      "\u001b[0;31mAttributeError\u001b[0m                            Traceback (most recent call last)",
      "\u001b[0;32m/var/folders/j0/mfngq2m92zj2j51zwb1b_vrc0000gn/T/ipykernel_6018/3162344231.py\u001b[0m in \u001b[0;36m<module>\u001b[0;34m\u001b[0m\n\u001b[1;32m      7\u001b[0m \u001b[0;32mfrom\u001b[0m \u001b[0mallensdk\u001b[0m\u001b[0;34m.\u001b[0m\u001b[0mcore\u001b[0m\u001b[0;34m.\u001b[0m\u001b[0mreference_space\u001b[0m \u001b[0;32mimport\u001b[0m \u001b[0mReferenceSpace\u001b[0m\u001b[0;34m\u001b[0m\u001b[0;34m\u001b[0m\u001b[0m\n\u001b[1;32m      8\u001b[0m \u001b[0;32mfrom\u001b[0m \u001b[0mallensdk\u001b[0m\u001b[0;34m.\u001b[0m\u001b[0mcore\u001b[0m\u001b[0;34m.\u001b[0m\u001b[0mreference_space_cache\u001b[0m \u001b[0;32mimport\u001b[0m \u001b[0mReferenceSpaceCache\u001b[0m\u001b[0;34m\u001b[0m\u001b[0;34m\u001b[0m\u001b[0m\n\u001b[0;32m----> 9\u001b[0;31m \u001b[0;32mfrom\u001b[0m \u001b[0matlas_functions\u001b[0m \u001b[0;32mimport\u001b[0m \u001b[0;34m*\u001b[0m\u001b[0;34m\u001b[0m\u001b[0;34m\u001b[0m\u001b[0m\n\u001b[0m\u001b[1;32m     10\u001b[0m \u001b[0;32mimport\u001b[0m \u001b[0mants\u001b[0m\u001b[0;34m\u001b[0m\u001b[0;34m\u001b[0m\u001b[0m\n\u001b[1;32m     11\u001b[0m \u001b[0;32mimport\u001b[0m \u001b[0mnrrd\u001b[0m\u001b[0;34m\u001b[0m\u001b[0;34m\u001b[0m\u001b[0m\n",
      "\u001b[0;32m~/Documents/GitHub/Atlas/atlas_functions.py\u001b[0m in \u001b[0;36m<module>\u001b[0;34m\u001b[0m\n\u001b[1;32m    211\u001b[0m \u001b[0mprint\u001b[0m\u001b[0;34m(\u001b[0m\u001b[0mtype\u001b[0m\u001b[0;34m(\u001b[0m\u001b[0mimg_raw\u001b[0m\u001b[0;34m)\u001b[0m\u001b[0;34m)\u001b[0m\u001b[0;34m\u001b[0m\u001b[0;34m\u001b[0m\u001b[0m\n\u001b[1;32m    212\u001b[0m \u001b[0mroi_helper\u001b[0m \u001b[0;34m=\u001b[0m \u001b[0mEasyROI\u001b[0m\u001b[0;34m(\u001b[0m\u001b[0mverbose\u001b[0m\u001b[0;34m=\u001b[0m\u001b[0;32mTrue\u001b[0m\u001b[0;34m)\u001b[0m\u001b[0;34m\u001b[0m\u001b[0;34m\u001b[0m\u001b[0m\n\u001b[0;32m--> 213\u001b[0;31m \u001b[0mpolygon_roi\u001b[0m \u001b[0;34m=\u001b[0m \u001b[0mroi_helper\u001b[0m\u001b[0;34m.\u001b[0m\u001b[0mdraw_polygon\u001b[0m\u001b[0;34m(\u001b[0m\u001b[0mimg_raw\u001b[0m\u001b[0;34m,\u001b[0m \u001b[0;36m1\u001b[0m\u001b[0;34m)\u001b[0m\u001b[0;34m\u001b[0m\u001b[0;34m\u001b[0m\u001b[0m\n\u001b[0m\u001b[1;32m    214\u001b[0m \u001b[0mcontour\u001b[0m\u001b[0;34m,\u001b[0m \u001b[0mhierarchy\u001b[0m \u001b[0;34m=\u001b[0m \u001b[0mpcv\u001b[0m\u001b[0;34m.\u001b[0m\u001b[0mroi\u001b[0m\u001b[0;34m.\u001b[0m\u001b[0mcustom\u001b[0m\u001b[0;34m(\u001b[0m\u001b[0mimg\u001b[0m\u001b[0;34m=\u001b[0m\u001b[0mimg_raw\u001b[0m\u001b[0;34m,\u001b[0m \u001b[0mvertices\u001b[0m\u001b[0;34m=\u001b[0m\u001b[0mpolygon_roi\u001b[0m\u001b[0;34m[\u001b[0m\u001b[0;34m\"roi\"\u001b[0m\u001b[0;34m]\u001b[0m\u001b[0;34m[\u001b[0m\u001b[0;36m0\u001b[0m\u001b[0;34m]\u001b[0m\u001b[0;34m[\u001b[0m\u001b[0;34m\"vertices\"\u001b[0m\u001b[0;34m]\u001b[0m\u001b[0;34m)\u001b[0m\u001b[0;34m\u001b[0m\u001b[0;34m\u001b[0m\u001b[0m\n\u001b[1;32m    215\u001b[0m \u001b[0mmask\u001b[0m \u001b[0;34m=\u001b[0m \u001b[0mpcv\u001b[0m\u001b[0;34m.\u001b[0m\u001b[0mroi\u001b[0m\u001b[0;34m.\u001b[0m\u001b[0mroi2mask\u001b[0m\u001b[0;34m(\u001b[0m\u001b[0mimg\u001b[0m\u001b[0;34m=\u001b[0m\u001b[0mimg_raw\u001b[0m\u001b[0;34m,\u001b[0m \u001b[0mcontour\u001b[0m\u001b[0;34m=\u001b[0m\u001b[0mcontour\u001b[0m\u001b[0;34m)\u001b[0m\u001b[0;34m\u001b[0m\u001b[0;34m\u001b[0m\u001b[0m\n",
      "\u001b[0;32m~/opt/anaconda3/envs/mouse-terminator/lib/python3.7/site-packages/EasyROI/easyROI.py\u001b[0m in \u001b[0;36mdraw_polygon\u001b[0;34m(self, frame, quantity)\u001b[0m\n\u001b[1;32m    134\u001b[0m             \u001b[0mprint\u001b[0m\u001b[0;34m(\u001b[0m\u001b[0;34m\"[DEBUG] Press Esc to leave the process\"\u001b[0m\u001b[0;34m)\u001b[0m\u001b[0;34m\u001b[0m\u001b[0;34m\u001b[0m\u001b[0m\n\u001b[1;32m    135\u001b[0m \u001b[0;34m\u001b[0m\u001b[0m\n\u001b[0;32m--> 136\u001b[0;31m         \u001b[0mself\u001b[0m\u001b[0;34m.\u001b[0m\u001b[0mimg\u001b[0m \u001b[0;34m=\u001b[0m \u001b[0mframe\u001b[0m\u001b[0;34m.\u001b[0m\u001b[0mcopy\u001b[0m\u001b[0;34m(\u001b[0m\u001b[0;34m)\u001b[0m\u001b[0;34m\u001b[0m\u001b[0;34m\u001b[0m\u001b[0m\n\u001b[0m\u001b[1;32m    137\u001b[0m         \u001b[0mself\u001b[0m\u001b[0;34m.\u001b[0m\u001b[0mquantity\u001b[0m \u001b[0;34m=\u001b[0m \u001b[0mquantity\u001b[0m\u001b[0;34m\u001b[0m\u001b[0;34m\u001b[0m\u001b[0m\n\u001b[1;32m    138\u001b[0m \u001b[0;34m\u001b[0m\u001b[0m\n",
      "\u001b[0;31mAttributeError\u001b[0m: 'NoneType' object has no attribute 'copy'"
     ]
    }
   ],
   "source": [
    "import numpy as np\n",
    "import os\n",
    "import functools\n",
    "import time\n",
    "from pathlib import Path\n",
    "from tqdm import tqdm\n",
    "from allensdk.core.reference_space import ReferenceSpace\n",
    "from allensdk.core.reference_space_cache import ReferenceSpaceCache\n",
    "from atlas_functions import *\n",
    "import ants\n",
    "import nrrd\n",
    "import scipy\n",
    "import cv2\n",
    "from PIL import Image\n",
    "from EasyROI import EasyROI\n",
    "from plantcv import plantcv as pcv\n"
   ]
  },
  {
   "cell_type": "code",
   "execution_count": 4,
   "metadata": {
    "scrolled": true
   },
   "outputs": [
    {
     "ename": "NameError",
     "evalue": "name 'open_AllenSDK' is not defined",
     "output_type": "error",
     "traceback": [
      "\u001b[0;31m---------------------------------------------------------------------------\u001b[0m",
      "\u001b[0;31mNameError\u001b[0m                                 Traceback (most recent call last)",
      "\u001b[0;32m/var/folders/j0/mfngq2m92zj2j51zwb1b_vrc0000gn/T/ipykernel_6018/2356447148.py\u001b[0m in \u001b[0;36m<module>\u001b[0;34m\u001b[0m\n\u001b[1;32m      1\u001b[0m \u001b[0;31m#directory = search_for_file_path()\u001b[0m\u001b[0;34m\u001b[0m\u001b[0;34m\u001b[0m\u001b[0;34m\u001b[0m\u001b[0m\n\u001b[0;32m----> 2\u001b[0;31m \u001b[0mrsp\u001b[0m\u001b[0;34m,\u001b[0m \u001b[0mtree\u001b[0m \u001b[0;34m=\u001b[0m \u001b[0mopen_AllenSDK\u001b[0m\u001b[0;34m(\u001b[0m\u001b[0;34m)\u001b[0m\u001b[0;34m\u001b[0m\u001b[0;34m\u001b[0m\u001b[0m\n\u001b[0m\u001b[1;32m      3\u001b[0m \u001b[0misocortex_map\u001b[0m\u001b[0;34m,\u001b[0m \u001b[0mid_name_dict\u001b[0m\u001b[0;34m,\u001b[0m \u001b[0mbregma\u001b[0m \u001b[0;34m=\u001b[0m \u001b[0mmap_generator\u001b[0m\u001b[0;34m(\u001b[0m\u001b[0mrsp\u001b[0m\u001b[0;34m,\u001b[0m \u001b[0mtree\u001b[0m\u001b[0;34m,\u001b[0m \u001b[0mstructure\u001b[0m\u001b[0;34m=\u001b[0m\u001b[0;34m'Isocortex'\u001b[0m\u001b[0;34m)\u001b[0m\u001b[0;34m\u001b[0m\u001b[0;34m\u001b[0m\u001b[0m\n\u001b[1;32m      4\u001b[0m \u001b[0;34m\u001b[0m\u001b[0m\n\u001b[1;32m      5\u001b[0m \u001b[0;31m#sma_mask = create_mask(isocortex_map, 656)\u001b[0m\u001b[0;34m\u001b[0m\u001b[0;34m\u001b[0m\u001b[0;34m\u001b[0m\u001b[0m\n",
      "\u001b[0;31mNameError\u001b[0m: name 'open_AllenSDK' is not defined"
     ]
    }
   ],
   "source": [
    "#directory = search_for_file_path()\n",
    "rsp, tree = open_AllenSDK()\n",
    "isocortex_map, id_name_dict, bregma = map_generator(rsp, tree, structure='Isocortex')\n",
    "\n",
    "#sma_mask = create_mask(isocortex_map, 656)\n",
    "#contour = create_contour(isocortex_map)\n",
    "\n"
   ]
  },
  {
   "cell_type": "code",
   "execution_count": null,
   "metadata": {},
   "outputs": [],
   "source": [
    "fig, ax = plt.subplots(figsize=(10, 10))\n",
    "plt.imshow(isocortex_map,vmax=1300, cmap='gray', alpha=0.5)\n",
    "plt.imshow(contour, cmap='binary_r', alpha=0.5)\n",
    "plt.show()"
   ]
  },
  {
   "cell_type": "markdown",
   "metadata": {},
   "source": [
    "# Saving isocortex Mask"
   ]
  },
  {
   "cell_type": "code",
   "execution_count": null,
   "metadata": {},
   "outputs": [],
   "source": [
    "isocortex_mask = np.zeros(isocortex_map.shape)\n",
    "mask_list = []\n",
    "for i in id_name_dict:\n",
    "    mask_list.append(i)\n",
    "isocortex_mask = create_mask(isocortex_map, mask_list)\n",
    "isocortex_mask_int8 = isocortex_mask.astype('uint8')"
   ]
  },
  {
   "cell_type": "code",
   "execution_count": null,
   "metadata": {},
   "outputs": [],
   "source": [
    "plt.imshow(isocortex_mask)\n",
    "plt.imshow()\n",
    "plt.show()"
   ]
  },
  {
   "cell_type": "code",
   "execution_count": null,
   "metadata": {},
   "outputs": [],
   "source": [
    "#filePath = search_for_file_path()\n",
    "#image_name = 'isocortex_mask_int8'\n",
    "#imageio.imwrite(str(filePath) + image_name + '.tif', isocortex_mask)"
   ]
  },
  {
   "cell_type": "code",
   "execution_count": null,
   "metadata": {
    "scrolled": true
   },
   "outputs": [],
   "source": [
    "#contour2 = create_contour(isocortex_map)\n",
    "#contour.shape\n",
    "#print(contour)\n",
    "#print(type(contour))\n",
    "#print(contour.dtype)\n",
    "#contour = contour.astype('uint8')\n",
    "#print(contour.dtype)\n",
    "\n",
    "#path = search_for_file_path()\n",
    "#name = 'contour'\n",
    "#im = Image.fromarray(contour)\n",
    "#im.save(os.path.join(path, name + \".tif\"))\n",
    "\n",
    "def npy_to_tif(data, name, path = 'search'):\n",
    "    if path == 'search':\n",
    "        path = search_for_file_path()\n",
    "    else:\n",
    "        pass\n",
    "    data = data.astype('uint8')\n",
    "    print(data.dtype)\n",
    "    im = Image.fromarray(data)\n",
    "    im.save(os.path.join(path, name + \".tif\"))\n",
    "    return"
   ]
  },
  {
   "cell_type": "code",
   "execution_count": null,
   "metadata": {},
   "outputs": [],
   "source": [
    "contour2 = create_contour(isocortex_map)\n",
    "print(contour2.dtype)\n",
    "npy_to_tif(contour2, 'test')"
   ]
  },
  {
   "cell_type": "code",
   "execution_count": null,
   "metadata": {},
   "outputs": [],
   "source": [
    "tif_to_nrrd(\"contour.tif\")"
   ]
  },
  {
   "cell_type": "code",
   "execution_count": null,
   "metadata": {},
   "outputs": [],
   "source": [
    "#im = Image.fromarray(isocortex_mask_int8)\n",
    "#im.save(os.path.join(filePath, image_name + \".tif\"))"
   ]
  },
  {
   "cell_type": "markdown",
   "metadata": {},
   "source": [
    "# Opening both masks and finding transform"
   ]
  },
  {
   "cell_type": "code",
   "execution_count": null,
   "metadata": {},
   "outputs": [],
   "source": [
    "#atlas_array = cv2.imread(\"/Users/vincentchouinard/Documents/GitHub/Atlas/saved_images/isocortex_mask.tif\")\n",
    "#atlas_array = cv2.imread(\"/Users/vincentchouinard/Documents/GitHub/Atlas/saved_images/isocortex_churchland_mask_int8.tif\")\n",
    "#atlas_array = atlas_array[:,:,0].astype('uint8')\n",
    "#print(atlas_array.dtype)\n",
    "#print(atlas_array[200,200])\n",
    "#print(atlas_array[3,7])"
   ]
  },
  {
   "cell_type": "code",
   "execution_count": null,
   "metadata": {},
   "outputs": [],
   "source": [
    "#atlas_array = atlas_array/255\n",
    "#atlas_array = atlas_array.astype(\"uint8\")\n",
    "#plt.imshow(atlas_array, cmap=\"binary_r\")\n",
    "#plt.colorbar()\n",
    "#plt.show()\n",
    "#print(atlas_array.dtype)\n",
    "#print(atlas_array[200,200])\n",
    "#print(atlas_array[3,7])"
   ]
  },
  {
   "cell_type": "code",
   "execution_count": null,
   "metadata": {},
   "outputs": [],
   "source": [
    "name = 'contour'\n",
    "im = Image.fromarray(contour)\n",
    "im.save(os.path.join(path, name + \".tif\"))"
   ]
  },
  {
   "cell_type": "code",
   "execution_count": null,
   "metadata": {},
   "outputs": [],
   "source": [
    "contour_ants = ants.image_read(directory + \"/saved_images/contour.nrrd\")"
   ]
  },
  {
   "cell_type": "code",
   "execution_count": null,
   "metadata": {},
   "outputs": [],
   "source": [
    "#img = cv2.imread(directory + \"/\" + \"saved_images/isocortex_mask_churchland_int8.tif\", cv2.IMREAD_GRAYSCALE)"
   ]
  },
  {
   "cell_type": "code",
   "execution_count": null,
   "metadata": {},
   "outputs": [],
   "source": [
    "def tif_to_nrrd(filename, path):\n",
    "    img = cv2.imread(path + \"/\" + filename, cv2.IMREAD_GRAYSCALE)\n",
    "    filename = Path(filename).stem\n",
    "    nrrd.write(path + \"/\" + filename + '.nrrd', img)\n",
    "    return filename + '.nrrd'"
   ]
  },
  {
   "cell_type": "code",
   "execution_count": null,
   "metadata": {},
   "outputs": [],
   "source": [
    "# Opens both files in the directory I choose\n",
    "tif_to_nrrd(\"isocortex_churchland_mask_v3.tif\")\n",
    "#tif_to_nrrd(\"isocortex_mask_int8.tif\")"
   ]
  },
  {
   "cell_type": "code",
   "execution_count": null,
   "metadata": {},
   "outputs": [],
   "source": [
    "#churchland_nrrd, header = nrrd.read(directory + \"/saved_images/isocortex_mask_churchland_int8.nrrd\")\n",
    "#print(header)\n",
    "#header['space directions'] = np.delete(header['space directions'], 2, 1)\n",
    "#header['space directions'] = np.array([[30, 0],[0,30]])\n",
    "#print(header)"
   ]
  },
  {
   "cell_type": "code",
   "execution_count": null,
   "metadata": {},
   "outputs": [],
   "source": [
    "churchland = ants.image_read(directory + \"/saved_images/isocortex_churchland_mask_v3.nrrd\")\n",
    "atlas = ants.image_read(directory + \"/saved_images/isocortex_mask_int8.nrrd\")"
   ]
  },
  {
   "cell_type": "code",
   "execution_count": null,
   "metadata": {},
   "outputs": [],
   "source": [
    "#churchland = ants.image_read(directory + \"/saved_images/rot_isocortex_mask_churchland_int8.nrrd\")"
   ]
  },
  {
   "cell_type": "code",
   "execution_count": null,
   "metadata": {},
   "outputs": [],
   "source": [
    "#atlas = ants.image_read(directory + \"/saved_images/isocortex_mask_int8.nrrd\")\n",
    "contour_ants = ants.image_read(\"contour.nrrd\")"
   ]
  },
  {
   "cell_type": "code",
   "execution_count": null,
   "metadata": {},
   "outputs": [],
   "source": [
    "mytx = ants.registration(fixed=churchland, moving=atlas, type_of_transform = ('SyN'), syn_sampling = 8)"
   ]
  },
  {
   "cell_type": "code",
   "execution_count": null,
   "metadata": {
    "scrolled": false
   },
   "outputs": [],
   "source": [
    "#print(mytx)"
   ]
  },
  {
   "cell_type": "code",
   "execution_count": null,
   "metadata": {},
   "outputs": [],
   "source": [
    "atlas_warped = ants.apply_transforms(churchland, atlas, mytx['fwdtransforms']).numpy()\n",
    "contours_warped = ants.apply_transforms(churchland, contour_ants, mytx['fwdtransforms']).numpy()"
   ]
  },
  {
   "cell_type": "code",
   "execution_count": null,
   "metadata": {},
   "outputs": [],
   "source": [
    "path = search_for_file_path()\n",
    "filename = 'isocortex_churchland.tif'\n",
    "img = cv2.imread(path + \"/\" + filename, cv2.IMREAD_GRAYSCALE)"
   ]
  },
  {
   "cell_type": "code",
   "execution_count": null,
   "metadata": {
    "scrolled": false
   },
   "outputs": [],
   "source": [
    "fig, ax = plt.subplots(figsize=(10, 10))\n",
    "#plt.imshow(atlas_warped, alpha=0.5)\n",
    "plt.imshow(contours_warped, cmap='binary_r', alpha=0.8)\n",
    "#plt.imshow(churchland.numpy(), alpha=0.5)\n",
    "plt.imshow(img, cmap='binary_r', alpha=0.6)"
   ]
  },
  {
   "cell_type": "code",
   "execution_count": null,
   "metadata": {},
   "outputs": [],
   "source": [
    "registrationPath = search_for_file_path()\n",
    "\n",
    "#fixedname = ''\n",
    "#fixed = search_for_file_path()\n",
    "#fixed = fixed + '/' fixedname\n"
   ]
  },
  {
   "cell_type": "code",
   "execution_count": null,
   "metadata": {},
   "outputs": [],
   "source": [
    "def registration(registrationPath, folderName, fixed_filename, moving_filename, trsfm = 'SyN', sampling = 8, show='off'):\n",
    "    #Creates new folder at registrationPath with name folderName. If folder already existant, closes function.\n",
    "    newFolder = registrationPath + \"/\" + folderName\n",
    "    \n",
    "    if os.path.exists(newFolder):\n",
    "        print(f'{folderName} already exists.')\n",
    "        if identify_files(newFolder, fixed_filename) == [fixed_filename]:\n",
    "            tif_to_nrrd(fixed_filename, newFolder)\n",
    "            tif_to_nrrd(moving_filename, newFolder)\n",
    "        else:\n",
    "            print('Insert .tif files in folder before registering.')\n",
    "            return\n",
    "    \n",
    "    else:\n",
    "        print(f'Creating a folder named {folderName} in {registrationPath}')\n",
    "        os.mkdir(newFolder)\n",
    "        \n",
    "        #Opens fixed and moving images\n",
    "        print('Opening fixed .tif image')\n",
    "        fixed = search_for_file_path()\n",
    "        fixedImg = cv2.imread(fixed + \"/\" + fixed_filename, cv2.IMREAD_GRAYSCALE)\n",
    "        cv2.imwrite(newFolder + '/' + fixed_filename, fixedImg)\n",
    "        nrrd_fixedname = tif_to_nrrd(fixed_filename, newFolder)\n",
    "    \n",
    "    \n",
    "        print('Opening moving .tif image')\n",
    "        moving = search_for_file_path()\n",
    "        movingImg = cv2.imread(moving + \"/\" + moving_filename, cv2.IMREAD_GRAYSCALE)\n",
    "        cv2.imwrite(newFolder + '/' + moving_filename, movingImg)\n",
    "        nrrd_movingname = tif_to_nrrd(moving_filename, newFolder)\n",
    "    \n",
    "    # .tif and .nrrd created.\n",
    "    \n",
    "    ants_fixedImg = ants.image_read(newFolder + '/' + nrrd_fixedname)\n",
    "    ants_movingImg = ants.image_read(newFolder + '/' + nrrd_movingname)\n",
    "    mytx = ants.registration(fixed=ants_fixedImg, moving=ants_movingImg, type_of_transform = trsfm, syn_sampling = sampling)\n",
    "    warpedImg = ants.apply_transforms(ants_fixedImg, ants_movingImg, mytx['fwdtransforms']).numpy()\n",
    "    \n",
    "    if show == 'on':\n",
    "        fig, ax = plt.subplots(figsize=(10, 10))\n",
    "        plt.imshow(warpedImg, cmap='PiYG', alpha=0.5)\n",
    "        plt.imshow(fixedImg, cmap='PuOr', alpha=0.5)\n",
    "    \n",
    "    return mytx, ants_fixedImg, ants_movingImg, warpedImg"
   ]
  },
  {
   "cell_type": "code",
   "execution_count": null,
   "metadata": {},
   "outputs": [],
   "source": [
    "trsfm, fixed, moving, warped = registration(registrationPath, 'churchland_contours', 'isocortex_churchland_mask_v3.tif', 'isocortex_mask_int8.tif', show='on')"
   ]
  },
  {
   "cell_type": "code",
   "execution_count": null,
   "metadata": {
    "scrolled": true
   },
   "outputs": [],
   "source": [
    "fig, ax = plt.subplots(figsize=(10, 10))\n",
    "plt.imshow(warped, cmap='PiYG', alpha=0.5)\n",
    "plt.imshow(fixed.numpy(), cmap='binary_r', alpha=0.5)\n",
    "#plt.imshow(moving.numpy(), cmap='binary_r', alpha=0.5)\n",
    "plt.show()\n",
    "    "
   ]
  },
  {
   "cell_type": "code",
   "execution_count": 2,
   "metadata": {
    "scrolled": true
   },
   "outputs": [
    {
     "name": "stdout",
     "output_type": "stream",
     "text": [
      "You chose: /Users/vincentchouinard/Desktop\n",
      "[DEBUG] Welcome to easyROI\n",
      "[DEBUG] Entered draw_polygon\n",
      "[DEBUG] Draw 1 polygon(s)\n",
      "[DEBUG] Draw multiple lines by dragging the cursor\n",
      "[DEBUG] Double Click to complete the polygon\n",
      "[DEBUG] Press Esc to leave the process\n",
      "[DEBUG] Not all ROI's drawn\n"
     ]
    },
    {
     "ename": "KeyError",
     "evalue": "'roi'",
     "output_type": "error",
     "traceback": [
      "\u001b[0;31m---------------------------------------------------------------------------\u001b[0m",
      "\u001b[0;31mKeyError\u001b[0m                                  Traceback (most recent call last)",
      "\u001b[0;32m/var/folders/j0/mfngq2m92zj2j51zwb1b_vrc0000gn/T/ipykernel_5435/3270900912.py\u001b[0m in \u001b[0;36m<module>\u001b[0;34m\u001b[0m\n\u001b[1;32m      4\u001b[0m \u001b[0mroi_helper\u001b[0m \u001b[0;34m=\u001b[0m \u001b[0mEasyROI\u001b[0m\u001b[0;34m(\u001b[0m\u001b[0mverbose\u001b[0m\u001b[0;34m=\u001b[0m\u001b[0;32mTrue\u001b[0m\u001b[0;34m)\u001b[0m\u001b[0;34m\u001b[0m\u001b[0;34m\u001b[0m\u001b[0m\n\u001b[1;32m      5\u001b[0m \u001b[0mpolygon_roi\u001b[0m \u001b[0;34m=\u001b[0m \u001b[0mroi_helper\u001b[0m\u001b[0;34m.\u001b[0m\u001b[0mdraw_polygon\u001b[0m\u001b[0;34m(\u001b[0m\u001b[0mimg_raw\u001b[0m\u001b[0;34m,\u001b[0m \u001b[0;36m1\u001b[0m\u001b[0;34m)\u001b[0m\u001b[0;34m\u001b[0m\u001b[0;34m\u001b[0m\u001b[0m\n\u001b[0;32m----> 6\u001b[0;31m \u001b[0mcontour\u001b[0m\u001b[0;34m,\u001b[0m \u001b[0mhierarchy\u001b[0m \u001b[0;34m=\u001b[0m \u001b[0mpcv\u001b[0m\u001b[0;34m.\u001b[0m\u001b[0mroi\u001b[0m\u001b[0;34m.\u001b[0m\u001b[0mcustom\u001b[0m\u001b[0;34m(\u001b[0m\u001b[0mimg\u001b[0m\u001b[0;34m=\u001b[0m\u001b[0mimg_raw\u001b[0m\u001b[0;34m,\u001b[0m \u001b[0mvertices\u001b[0m\u001b[0;34m=\u001b[0m\u001b[0mpolygon_roi\u001b[0m\u001b[0;34m[\u001b[0m\u001b[0;34m\"roi\"\u001b[0m\u001b[0;34m]\u001b[0m\u001b[0;34m[\u001b[0m\u001b[0;36m0\u001b[0m\u001b[0;34m]\u001b[0m\u001b[0;34m[\u001b[0m\u001b[0;34m\"vertices\"\u001b[0m\u001b[0;34m]\u001b[0m\u001b[0;34m)\u001b[0m\u001b[0;34m\u001b[0m\u001b[0;34m\u001b[0m\u001b[0m\n\u001b[0m\u001b[1;32m      7\u001b[0m \u001b[0mmask\u001b[0m \u001b[0;34m=\u001b[0m \u001b[0mpcv\u001b[0m\u001b[0;34m.\u001b[0m\u001b[0mroi\u001b[0m\u001b[0;34m.\u001b[0m\u001b[0mroi2mask\u001b[0m\u001b[0;34m(\u001b[0m\u001b[0mimg\u001b[0m\u001b[0;34m=\u001b[0m\u001b[0mimg_raw\u001b[0m\u001b[0;34m,\u001b[0m \u001b[0mcontour\u001b[0m\u001b[0;34m=\u001b[0m\u001b[0mcontour\u001b[0m\u001b[0;34m)\u001b[0m\u001b[0;34m\u001b[0m\u001b[0;34m\u001b[0m\u001b[0m\n",
      "\u001b[0;31mKeyError\u001b[0m: 'roi'"
     ]
    }
   ],
   "source": [
    "path = search_for_file_path()\n",
    "filename = 'isocortex_churchland.tif'\n",
    "img_raw = cv2.imread(path + \"/\" + filename, cv2.IMREAD_GRAYSCALE)\n",
    "roi_helper = EasyROI(verbose=True)\n",
    "polygon_roi = roi_helper.draw_polygon(img_raw, 1)\n",
    "contour, hierarchy = pcv.roi.custom(img=img_raw, vertices=polygon_roi[\"roi\"][0][\"vertices\"])\n",
    "mask = pcv.roi.roi2mask(img=img_raw, contour=contour)"
   ]
  },
  {
   "cell_type": "code",
   "execution_count": null,
   "metadata": {},
   "outputs": [],
   "source": []
  }
 ],
 "metadata": {
  "kernelspec": {
   "display_name": "Python 3 (ipykernel)",
   "language": "python",
   "name": "python3"
  },
  "language_info": {
   "codemirror_mode": {
    "name": "ipython",
    "version": 3
   },
   "file_extension": ".py",
   "mimetype": "text/x-python",
   "name": "python",
   "nbconvert_exporter": "python",
   "pygments_lexer": "ipython3",
   "version": "3.7.12"
  }
 },
 "nbformat": 4,
 "nbformat_minor": 4
}
